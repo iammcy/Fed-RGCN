{
 "cells": [
  {
   "cell_type": "code",
   "execution_count": 1,
   "source": [
    "from dgl.contrib.data import load_data\n",
    "import torch\n",
    "from dgl import DGLGraph"
   ],
   "outputs": [
    {
     "output_type": "stream",
     "name": "stderr",
     "text": [
      "Using backend: pytorch\n"
     ]
    }
   ],
   "metadata": {}
  },
  {
   "cell_type": "code",
   "execution_count": 2,
   "source": [
    "data = load_data(dataset='aifb')\n",
    "print(data)"
   ],
   "outputs": [
    {
     "output_type": "stream",
     "name": "stdout",
     "text": [
      "Downloading /home/maicy/.dgl/aifb.tgz from https://data.dgl.ai/dataset/aifb.tgz...\n",
      "Loading dataset aifb\n",
      "Number of nodes:  8285\n",
      "Number of edges:  66371\n",
      "Number of relations:  91\n",
      "Number of classes:  4\n",
      "removing nodes that are more than 3 hops away\n",
      "<dgl.contrib.data.knowledge_graph.RGCNEntityDataset object at 0x7fc2b8b83410>\n"
     ]
    }
   ],
   "metadata": {}
  },
  {
   "cell_type": "code",
   "execution_count": 28,
   "source": [
    "import numpy as np\n",
    "\n",
    "num_nodes = data.num_nodes\n",
    "num_rels = data.num_rels\n",
    "num_classes = data.num_classes\n",
    "labels = data.labels\n",
    "labels = torch.from_numpy(labels).view(-1)\n",
    "\n",
    "# train, val, test set\n",
    "# train set will be the same on each client\n",
    "train_idx = data.train_idx\n",
    "val_idx = train_idx[:len(train_idx) // 5]\n",
    "train_idx = train_idx[len(train_idx) // 5:]\n",
    "# test set will be the same on each client\n",
    "test_idx = data.test_idx\n",
    "\n",
    "# edge\n",
    "edge_type = torch.from_numpy(data.edge_type)\n",
    "edge_norm = torch.from_numpy(data.edge_norm).unsqueeze(1)\n",
    "\n",
    "# create graph\n",
    "# split edges to each client and reset norm\n",
    "g = DGLGraph((data.edge_src, data.edge_dst))\n",
    "g.edata.update({'rel_type': edge_type, 'norm': edge_norm})"
   ],
   "outputs": [
    {
     "output_type": "stream",
     "name": "stderr",
     "text": [
      "/home/maicy/anaconda3/envs/pytorch/lib/python3.7/site-packages/dgl/base.py:45: DGLWarning: Recommend creating graphs by `dgl.graph(data)` instead of `dgl.DGLGraph(data)`.\n",
      "  return warnings.warn(message, category=category, stacklevel=1)\n"
     ]
    }
   ],
   "metadata": {}
  }
 ],
 "metadata": {
  "orig_nbformat": 4,
  "language_info": {
   "name": "python",
   "version": "3.7.10",
   "mimetype": "text/x-python",
   "codemirror_mode": {
    "name": "ipython",
    "version": 3
   },
   "pygments_lexer": "ipython3",
   "nbconvert_exporter": "python",
   "file_extension": ".py"
  },
  "kernelspec": {
   "name": "python3",
   "display_name": "Python 3.7.10 64-bit ('pytorch': conda)"
  },
  "interpreter": {
   "hash": "2977f7f308c90bd64535232226a17c6e0fa373b684f889a28e20cb1a3aad7c65"
  }
 },
 "nbformat": 4,
 "nbformat_minor": 2
}